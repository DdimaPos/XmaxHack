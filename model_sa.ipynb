{
 "cells": [
  {
   "cell_type": "code",
   "execution_count": 3,
   "id": "initial_id",
   "metadata": {
    "collapsed": true,
    "ExecuteTime": {
     "end_time": "2023-12-23T16:05:35.973776267Z",
     "start_time": "2023-12-23T16:05:35.939364145Z"
    }
   },
   "outputs": [],
   "source": [
    "import pandas as pd\n",
    "import numpy as np\n",
    "import time\n",
    "import copy\n",
    "import random\n",
    "import math\n",
    "import gurobipy as grb"
   ]
  },
  {
   "cell_type": "code",
   "outputs": [],
   "source": [
    "data = pd.read_csv('data.csv')"
   ],
   "metadata": {
    "collapsed": false
   },
   "id": "f65719b08f94a2da"
  },
  {
   "cell_type": "code",
   "outputs": [],
   "source": [
    "# implement the model simulated annealing for scheduling classes\n",
    "# input: classrooms, teachers, teachers availability, room_capacity, courses, groups, time slots, language, course duration, course type, course size, course frequency\n",
    "# define the objective function\n",
    "# define the constraints\n",
    "# define the initial solution\n",
    "# define the neighborhood\n",
    "# define the acceptance probability\n",
    "# define the cooling schedule\n",
    "# define the stopping criterion\n",
    "# output: the best solution\n",
    "\n",
    "#code\n"
   ],
   "metadata": {
    "collapsed": false,
    "ExecuteTime": {
     "end_time": "2023-12-23T16:19:48.630918510Z",
     "start_time": "2023-12-23T16:19:48.621521316Z"
    }
   },
   "id": "66e83226ec6c4d58",
   "execution_count": 4
  },
  {
   "cell_type": "code",
   "outputs": [],
   "source": [],
   "metadata": {
    "collapsed": false
   },
   "id": "6fdaff68ba2f5c1d"
  }
 ],
 "metadata": {
  "kernelspec": {
   "display_name": "Python 3",
   "language": "python",
   "name": "python3"
  },
  "language_info": {
   "codemirror_mode": {
    "name": "ipython",
    "version": 2
   },
   "file_extension": ".py",
   "mimetype": "text/x-python",
   "name": "python",
   "nbconvert_exporter": "python",
   "pygments_lexer": "ipython2",
   "version": "2.7.6"
  }
 },
 "nbformat": 4,
 "nbformat_minor": 5
}
