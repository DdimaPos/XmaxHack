{
 "cells": [
  {
   "cell_type": "code",
   "outputs": [],
   "source": [
    "# read datasets\n",
    "import pandas as pd\n",
    "subjects = pd.read_csv('Subjects.csv')\n",
    "groups = pd.read_csv('Groups.csv')\n",
    "teachers = pd.read_csv('Profesori.csv')\n",
    "classes = pd.read_csv('Cabinete.csv')"
   ],
   "metadata": {
    "collapsed": false,
    "ExecuteTime": {
     "end_time": "2023-12-23T20:32:12.402404914Z",
     "start_time": "2023-12-23T20:32:11.884500375Z"
    }
   },
   "id": "6893bf3b9d03ed63",
   "execution_count": 2
  },
  {
   "cell_type": "code",
   "outputs": [
    {
     "data": {
      "text/plain": "    id    unitate_curs  teorie  practica  lab TOTAL  anul semestru\n38  39  L. Engleză 1-2       0        30    0   NaN     1      1,2\n39  40  Ed. Fizică 1-2       0        30    0   NaN     1      1,2",
      "text/html": "<div>\n<style scoped>\n    .dataframe tbody tr th:only-of-type {\n        vertical-align: middle;\n    }\n\n    .dataframe tbody tr th {\n        vertical-align: top;\n    }\n\n    .dataframe thead th {\n        text-align: right;\n    }\n</style>\n<table border=\"1\" class=\"dataframe\">\n  <thead>\n    <tr style=\"text-align: right;\">\n      <th></th>\n      <th>id</th>\n      <th>unitate_curs</th>\n      <th>teorie</th>\n      <th>practica</th>\n      <th>lab</th>\n      <th>TOTAL</th>\n      <th>anul</th>\n      <th>semestru</th>\n    </tr>\n  </thead>\n  <tbody>\n    <tr>\n      <th>38</th>\n      <td>39</td>\n      <td>L. Engleză 1-2</td>\n      <td>0</td>\n      <td>30</td>\n      <td>0</td>\n      <td>NaN</td>\n      <td>1</td>\n      <td>1,2</td>\n    </tr>\n    <tr>\n      <th>39</th>\n      <td>40</td>\n      <td>Ed. Fizică 1-2</td>\n      <td>0</td>\n      <td>30</td>\n      <td>0</td>\n      <td>NaN</td>\n      <td>1</td>\n      <td>1,2</td>\n    </tr>\n  </tbody>\n</table>\n</div>"
     },
     "execution_count": 91,
     "metadata": {},
     "output_type": "execute_result"
    }
   ],
   "source": [
    "sem_1_2 = subjects[subjects['semestru'] == \"1,2\"]\n",
    "sem_1_2"
   ],
   "metadata": {
    "collapsed": false,
    "ExecuteTime": {
     "end_time": "2023-12-23T13:11:07.315953933Z",
     "start_time": "2023-12-23T13:11:07.273384361Z"
    }
   },
   "id": "70d68124baad1ea0",
   "execution_count": 91
  },
  {
   "cell_type": "code",
   "outputs": [],
   "source": [
    "sem_1 = subjects[subjects['semestru'] == \"1\"]\n",
    "sem_2 = subjects[subjects['semestru'] == \"2\"]"
   ],
   "metadata": {
    "collapsed": false,
    "ExecuteTime": {
     "end_time": "2023-12-23T13:07:18.657212241Z",
     "start_time": "2023-12-23T13:07:18.654987487Z"
    }
   },
   "id": "2d843c6cf12113f2",
   "execution_count": 78
  },
  {
   "cell_type": "code",
   "outputs": [],
   "source": [
    "subj_sem_1 = sem_1.drop(columns=['semestru'], axis=1)\n",
    "subj_sem_2 = sem_2.drop(columns=['semestru'], axis=1)"
   ],
   "metadata": {
    "collapsed": false,
    "ExecuteTime": {
     "end_time": "2023-12-23T13:07:19.018856087Z",
     "start_time": "2023-12-23T13:07:19.015356516Z"
    }
   },
   "id": "6d29c36939331e15",
   "execution_count": 79
  },
  {
   "cell_type": "code",
   "outputs": [
    {
     "data": {
      "text/plain": "    id                                       unitate_curs  teorie  practica  \\\n0    1                                                AM1      30        30   \n2    3                                               ALGA      30        15   \n3    4                                                 PC      30        30   \n4    5                                                PSA      30        15   \n5    6  Etica și integritatea academică/ Psihologie in...      30         0   \n9   10                               Grafica inginerească      15         0   \n10  11                                             Fizica      30        30   \n20  21                                         ALGA (FAF)      30        15   \n21  22                                        PCAIT (FAF)       0         0   \n22  23                                           MD (FAF)      30        15   \n23  24                                          AM1 (FAF)      30        30   \n24  25                                          EIA (FAF)      30         0   \n25  26                                          PSA (FAF)      30        15   \n26  27                                           PC (FAF)      30        30   \n27  28                                   L. Engleza (FAF)       0        30   \n36  37                                          L. Română       0        30   \n\n    lab       TOTAL  anul  \n0     0         NaN     1  \n2     0         NaN     1  \n3    30         NaN     1  \n4    15         NaN     1  \n5     0         NaN     1  \n9    30         NaN     1  \n10   30         NaN     1  \n20    0         NaN     1  \n21    0  Proiect 60     1  \n22   30         NaN     1  \n23    0         NaN     1  \n24    0         NaN     1  \n25   15         NaN     1  \n26   30         NaN     1  \n27    0         NaN     1  \n36    0         NaN     1  ",
      "text/html": "<div>\n<style scoped>\n    .dataframe tbody tr th:only-of-type {\n        vertical-align: middle;\n    }\n\n    .dataframe tbody tr th {\n        vertical-align: top;\n    }\n\n    .dataframe thead th {\n        text-align: right;\n    }\n</style>\n<table border=\"1\" class=\"dataframe\">\n  <thead>\n    <tr style=\"text-align: right;\">\n      <th></th>\n      <th>id</th>\n      <th>unitate_curs</th>\n      <th>teorie</th>\n      <th>practica</th>\n      <th>lab</th>\n      <th>TOTAL</th>\n      <th>anul</th>\n    </tr>\n  </thead>\n  <tbody>\n    <tr>\n      <th>0</th>\n      <td>1</td>\n      <td>AM1</td>\n      <td>30</td>\n      <td>30</td>\n      <td>0</td>\n      <td>NaN</td>\n      <td>1</td>\n    </tr>\n    <tr>\n      <th>2</th>\n      <td>3</td>\n      <td>ALGA</td>\n      <td>30</td>\n      <td>15</td>\n      <td>0</td>\n      <td>NaN</td>\n      <td>1</td>\n    </tr>\n    <tr>\n      <th>3</th>\n      <td>4</td>\n      <td>PC</td>\n      <td>30</td>\n      <td>30</td>\n      <td>30</td>\n      <td>NaN</td>\n      <td>1</td>\n    </tr>\n    <tr>\n      <th>4</th>\n      <td>5</td>\n      <td>PSA</td>\n      <td>30</td>\n      <td>15</td>\n      <td>15</td>\n      <td>NaN</td>\n      <td>1</td>\n    </tr>\n    <tr>\n      <th>5</th>\n      <td>6</td>\n      <td>Etica și integritatea academică/ Psihologie in...</td>\n      <td>30</td>\n      <td>0</td>\n      <td>0</td>\n      <td>NaN</td>\n      <td>1</td>\n    </tr>\n    <tr>\n      <th>9</th>\n      <td>10</td>\n      <td>Grafica inginerească</td>\n      <td>15</td>\n      <td>0</td>\n      <td>30</td>\n      <td>NaN</td>\n      <td>1</td>\n    </tr>\n    <tr>\n      <th>10</th>\n      <td>11</td>\n      <td>Fizica</td>\n      <td>30</td>\n      <td>30</td>\n      <td>30</td>\n      <td>NaN</td>\n      <td>1</td>\n    </tr>\n    <tr>\n      <th>20</th>\n      <td>21</td>\n      <td>ALGA (FAF)</td>\n      <td>30</td>\n      <td>15</td>\n      <td>0</td>\n      <td>NaN</td>\n      <td>1</td>\n    </tr>\n    <tr>\n      <th>21</th>\n      <td>22</td>\n      <td>PCAIT (FAF)</td>\n      <td>0</td>\n      <td>0</td>\n      <td>0</td>\n      <td>Proiect 60</td>\n      <td>1</td>\n    </tr>\n    <tr>\n      <th>22</th>\n      <td>23</td>\n      <td>MD (FAF)</td>\n      <td>30</td>\n      <td>15</td>\n      <td>30</td>\n      <td>NaN</td>\n      <td>1</td>\n    </tr>\n    <tr>\n      <th>23</th>\n      <td>24</td>\n      <td>AM1 (FAF)</td>\n      <td>30</td>\n      <td>30</td>\n      <td>0</td>\n      <td>NaN</td>\n      <td>1</td>\n    </tr>\n    <tr>\n      <th>24</th>\n      <td>25</td>\n      <td>EIA (FAF)</td>\n      <td>30</td>\n      <td>0</td>\n      <td>0</td>\n      <td>NaN</td>\n      <td>1</td>\n    </tr>\n    <tr>\n      <th>25</th>\n      <td>26</td>\n      <td>PSA (FAF)</td>\n      <td>30</td>\n      <td>15</td>\n      <td>15</td>\n      <td>NaN</td>\n      <td>1</td>\n    </tr>\n    <tr>\n      <th>26</th>\n      <td>27</td>\n      <td>PC (FAF)</td>\n      <td>30</td>\n      <td>30</td>\n      <td>30</td>\n      <td>NaN</td>\n      <td>1</td>\n    </tr>\n    <tr>\n      <th>27</th>\n      <td>28</td>\n      <td>L. Engleza (FAF)</td>\n      <td>0</td>\n      <td>30</td>\n      <td>0</td>\n      <td>NaN</td>\n      <td>1</td>\n    </tr>\n    <tr>\n      <th>36</th>\n      <td>37</td>\n      <td>L. Română</td>\n      <td>0</td>\n      <td>30</td>\n      <td>0</td>\n      <td>NaN</td>\n      <td>1</td>\n    </tr>\n  </tbody>\n</table>\n</div>"
     },
     "execution_count": 80,
     "metadata": {},
     "output_type": "execute_result"
    }
   ],
   "source": [
    "subj_sem_1"
   ],
   "metadata": {
    "collapsed": false,
    "ExecuteTime": {
     "end_time": "2023-12-23T13:07:19.379212684Z",
     "start_time": "2023-12-23T13:07:19.363654289Z"
    }
   },
   "id": "d852baa1a26f0acf",
   "execution_count": 80
  },
  {
   "cell_type": "code",
   "outputs": [
    {
     "data": {
      "text/plain": "    id                 unitate_curs  teorie  practica  lab       TOTAL  anul\n1    2                          AM2      30        15    0         NaN     1\n6    7                          SDA      30        15    0         NaN     1\n7    8                          CSA      30        15    0         NaN     1\n8    9                           GC      30         0   30         NaN     1\n11  12           Mecanica Teoretică      30         0   30         NaN     1\n12  13                           MS      30        15   30         NaN     1\n13  14                           MD      30        15   30         NaN     1\n14  15        Biologie și biochimie      45         0   30         NaN     1\n15  16  Arhitectura calculatoarelor      30        15   30         NaN     1\n16  17               Tehnologii Web      30         0   30         NaN     1\n17  18      Programarea procedurală      30         0   30         NaN     1\n18  19         Practica de inițiere       0         0    0         NaN     1\n19  20                 Criptografie      30         0   30         NaN     1\n28  29                     ME (FAF)       0         0    0  Proiect 60     1\n29  30                     SA (FAF)      30        30   30         NaN     1\n30  31                     AM2(FAF)      30        30    0         NaN     1\n31  32                      MS(FAF)      30        15    0         NaN     1\n32  33                     MN (FAF)      30        15    0         NaN     1\n33  34                     SDA(FAF)      30        15   30         NaN     1\n34  35                     CSA(FAF)      30        15    0         NaN     1\n35  36            L. Engleza2 (FAF)       0        30    0         NaN     1\n37  38                  L. Română 2       0        30    0         NaN     1",
      "text/html": "<div>\n<style scoped>\n    .dataframe tbody tr th:only-of-type {\n        vertical-align: middle;\n    }\n\n    .dataframe tbody tr th {\n        vertical-align: top;\n    }\n\n    .dataframe thead th {\n        text-align: right;\n    }\n</style>\n<table border=\"1\" class=\"dataframe\">\n  <thead>\n    <tr style=\"text-align: right;\">\n      <th></th>\n      <th>id</th>\n      <th>unitate_curs</th>\n      <th>teorie</th>\n      <th>practica</th>\n      <th>lab</th>\n      <th>TOTAL</th>\n      <th>anul</th>\n    </tr>\n  </thead>\n  <tbody>\n    <tr>\n      <th>1</th>\n      <td>2</td>\n      <td>AM2</td>\n      <td>30</td>\n      <td>15</td>\n      <td>0</td>\n      <td>NaN</td>\n      <td>1</td>\n    </tr>\n    <tr>\n      <th>6</th>\n      <td>7</td>\n      <td>SDA</td>\n      <td>30</td>\n      <td>15</td>\n      <td>0</td>\n      <td>NaN</td>\n      <td>1</td>\n    </tr>\n    <tr>\n      <th>7</th>\n      <td>8</td>\n      <td>CSA</td>\n      <td>30</td>\n      <td>15</td>\n      <td>0</td>\n      <td>NaN</td>\n      <td>1</td>\n    </tr>\n    <tr>\n      <th>8</th>\n      <td>9</td>\n      <td>GC</td>\n      <td>30</td>\n      <td>0</td>\n      <td>30</td>\n      <td>NaN</td>\n      <td>1</td>\n    </tr>\n    <tr>\n      <th>11</th>\n      <td>12</td>\n      <td>Mecanica Teoretică</td>\n      <td>30</td>\n      <td>0</td>\n      <td>30</td>\n      <td>NaN</td>\n      <td>1</td>\n    </tr>\n    <tr>\n      <th>12</th>\n      <td>13</td>\n      <td>MS</td>\n      <td>30</td>\n      <td>15</td>\n      <td>30</td>\n      <td>NaN</td>\n      <td>1</td>\n    </tr>\n    <tr>\n      <th>13</th>\n      <td>14</td>\n      <td>MD</td>\n      <td>30</td>\n      <td>15</td>\n      <td>30</td>\n      <td>NaN</td>\n      <td>1</td>\n    </tr>\n    <tr>\n      <th>14</th>\n      <td>15</td>\n      <td>Biologie și biochimie</td>\n      <td>45</td>\n      <td>0</td>\n      <td>30</td>\n      <td>NaN</td>\n      <td>1</td>\n    </tr>\n    <tr>\n      <th>15</th>\n      <td>16</td>\n      <td>Arhitectura calculatoarelor</td>\n      <td>30</td>\n      <td>15</td>\n      <td>30</td>\n      <td>NaN</td>\n      <td>1</td>\n    </tr>\n    <tr>\n      <th>16</th>\n      <td>17</td>\n      <td>Tehnologii Web</td>\n      <td>30</td>\n      <td>0</td>\n      <td>30</td>\n      <td>NaN</td>\n      <td>1</td>\n    </tr>\n    <tr>\n      <th>17</th>\n      <td>18</td>\n      <td>Programarea procedurală</td>\n      <td>30</td>\n      <td>0</td>\n      <td>30</td>\n      <td>NaN</td>\n      <td>1</td>\n    </tr>\n    <tr>\n      <th>18</th>\n      <td>19</td>\n      <td>Practica de inițiere</td>\n      <td>0</td>\n      <td>0</td>\n      <td>0</td>\n      <td>NaN</td>\n      <td>1</td>\n    </tr>\n    <tr>\n      <th>19</th>\n      <td>20</td>\n      <td>Criptografie</td>\n      <td>30</td>\n      <td>0</td>\n      <td>30</td>\n      <td>NaN</td>\n      <td>1</td>\n    </tr>\n    <tr>\n      <th>28</th>\n      <td>29</td>\n      <td>ME (FAF)</td>\n      <td>0</td>\n      <td>0</td>\n      <td>0</td>\n      <td>Proiect 60</td>\n      <td>1</td>\n    </tr>\n    <tr>\n      <th>29</th>\n      <td>30</td>\n      <td>SA (FAF)</td>\n      <td>30</td>\n      <td>30</td>\n      <td>30</td>\n      <td>NaN</td>\n      <td>1</td>\n    </tr>\n    <tr>\n      <th>30</th>\n      <td>31</td>\n      <td>AM2(FAF)</td>\n      <td>30</td>\n      <td>30</td>\n      <td>0</td>\n      <td>NaN</td>\n      <td>1</td>\n    </tr>\n    <tr>\n      <th>31</th>\n      <td>32</td>\n      <td>MS(FAF)</td>\n      <td>30</td>\n      <td>15</td>\n      <td>0</td>\n      <td>NaN</td>\n      <td>1</td>\n    </tr>\n    <tr>\n      <th>32</th>\n      <td>33</td>\n      <td>MN (FAF)</td>\n      <td>30</td>\n      <td>15</td>\n      <td>0</td>\n      <td>NaN</td>\n      <td>1</td>\n    </tr>\n    <tr>\n      <th>33</th>\n      <td>34</td>\n      <td>SDA(FAF)</td>\n      <td>30</td>\n      <td>15</td>\n      <td>30</td>\n      <td>NaN</td>\n      <td>1</td>\n    </tr>\n    <tr>\n      <th>34</th>\n      <td>35</td>\n      <td>CSA(FAF)</td>\n      <td>30</td>\n      <td>15</td>\n      <td>0</td>\n      <td>NaN</td>\n      <td>1</td>\n    </tr>\n    <tr>\n      <th>35</th>\n      <td>36</td>\n      <td>L. Engleza2 (FAF)</td>\n      <td>0</td>\n      <td>30</td>\n      <td>0</td>\n      <td>NaN</td>\n      <td>1</td>\n    </tr>\n    <tr>\n      <th>37</th>\n      <td>38</td>\n      <td>L. Română 2</td>\n      <td>0</td>\n      <td>30</td>\n      <td>0</td>\n      <td>NaN</td>\n      <td>1</td>\n    </tr>\n  </tbody>\n</table>\n</div>"
     },
     "execution_count": 81,
     "metadata": {},
     "output_type": "execute_result"
    }
   ],
   "source": [
    "subj_sem_2"
   ],
   "metadata": {
    "collapsed": false,
    "ExecuteTime": {
     "end_time": "2023-12-23T13:07:20.185512999Z",
     "start_time": "2023-12-23T13:07:20.161050937Z"
    }
   },
   "id": "8c1012ccaef1b021",
   "execution_count": 81
  },
  {
   "cell_type": "code",
   "outputs": [],
   "source": [],
   "metadata": {
    "collapsed": false
   },
   "id": "75a7fe054bf34de2"
  },
  {
   "cell_type": "code",
   "outputs": [],
   "source": [
    "data = pd.read_csv('exportedSEM1(1).csv')"
   ],
   "metadata": {
    "collapsed": false,
    "ExecuteTime": {
     "end_time": "2023-12-23T20:34:11.475611475Z",
     "start_time": "2023-12-23T20:34:11.423073780Z"
    }
   },
   "id": "4cd910e89712bf47",
   "execution_count": 7
  },
  {
   "cell_type": "code",
   "outputs": [],
   "source": [
    "data = data[['ID','SUBJECT','TYPE', 'Profesori.NAME', 'Grupe.nr_persoane']]"
   ],
   "metadata": {
    "collapsed": false,
    "ExecuteTime": {
     "end_time": "2023-12-23T20:34:11.755413076Z",
     "start_time": "2023-12-23T20:34:11.700792029Z"
    }
   },
   "id": "b446cdc2f8141e3",
   "execution_count": 8
  },
  {
   "cell_type": "code",
   "outputs": [
    {
     "data": {
      "text/plain": "        ID         SUBJECT      TYPE      Profesori.NAME  Grupe.nr_persoane\n0      117       Biofizica    teorie        Zaiden Bauer                NaN\n1      117       Biofizica    teorie        Zaiden Bauer                NaN\n2      117       Biofizica       lab        Amber Brooks                NaN\n3      117       Biofizica       lab        Amber Brooks                NaN\n4      117       Biofizica       lab        Amber Brooks                NaN\n...    ...             ...       ...                 ...                ...\n29464   40  Ed. Fizică 1-2  practica      Madilyn Ramsey               26.0\n29465   40  Ed. Fizică 1-2  practica      Madilyn Ramsey               26.0\n29466   40  Ed. Fizică 1-2  practica      Madilyn Ramsey               26.0\n29467    5             PSA       lab  Adrianna Zimmerman               26.0\n29468    5             PSA       lab  Adrianna Zimmerman               26.0\n\n[29469 rows x 5 columns]",
      "text/html": "<div>\n<style scoped>\n    .dataframe tbody tr th:only-of-type {\n        vertical-align: middle;\n    }\n\n    .dataframe tbody tr th {\n        vertical-align: top;\n    }\n\n    .dataframe thead th {\n        text-align: right;\n    }\n</style>\n<table border=\"1\" class=\"dataframe\">\n  <thead>\n    <tr style=\"text-align: right;\">\n      <th></th>\n      <th>ID</th>\n      <th>SUBJECT</th>\n      <th>TYPE</th>\n      <th>Profesori.NAME</th>\n      <th>Grupe.nr_persoane</th>\n    </tr>\n  </thead>\n  <tbody>\n    <tr>\n      <th>0</th>\n      <td>117</td>\n      <td>Biofizica</td>\n      <td>teorie</td>\n      <td>Zaiden Bauer</td>\n      <td>NaN</td>\n    </tr>\n    <tr>\n      <th>1</th>\n      <td>117</td>\n      <td>Biofizica</td>\n      <td>teorie</td>\n      <td>Zaiden Bauer</td>\n      <td>NaN</td>\n    </tr>\n    <tr>\n      <th>2</th>\n      <td>117</td>\n      <td>Biofizica</td>\n      <td>lab</td>\n      <td>Amber Brooks</td>\n      <td>NaN</td>\n    </tr>\n    <tr>\n      <th>3</th>\n      <td>117</td>\n      <td>Biofizica</td>\n      <td>lab</td>\n      <td>Amber Brooks</td>\n      <td>NaN</td>\n    </tr>\n    <tr>\n      <th>4</th>\n      <td>117</td>\n      <td>Biofizica</td>\n      <td>lab</td>\n      <td>Amber Brooks</td>\n      <td>NaN</td>\n    </tr>\n    <tr>\n      <th>...</th>\n      <td>...</td>\n      <td>...</td>\n      <td>...</td>\n      <td>...</td>\n      <td>...</td>\n    </tr>\n    <tr>\n      <th>29464</th>\n      <td>40</td>\n      <td>Ed. Fizică 1-2</td>\n      <td>practica</td>\n      <td>Madilyn Ramsey</td>\n      <td>26.0</td>\n    </tr>\n    <tr>\n      <th>29465</th>\n      <td>40</td>\n      <td>Ed. Fizică 1-2</td>\n      <td>practica</td>\n      <td>Madilyn Ramsey</td>\n      <td>26.0</td>\n    </tr>\n    <tr>\n      <th>29466</th>\n      <td>40</td>\n      <td>Ed. Fizică 1-2</td>\n      <td>practica</td>\n      <td>Madilyn Ramsey</td>\n      <td>26.0</td>\n    </tr>\n    <tr>\n      <th>29467</th>\n      <td>5</td>\n      <td>PSA</td>\n      <td>lab</td>\n      <td>Adrianna Zimmerman</td>\n      <td>26.0</td>\n    </tr>\n    <tr>\n      <th>29468</th>\n      <td>5</td>\n      <td>PSA</td>\n      <td>lab</td>\n      <td>Adrianna Zimmerman</td>\n      <td>26.0</td>\n    </tr>\n  </tbody>\n</table>\n<p>29469 rows × 5 columns</p>\n</div>"
     },
     "execution_count": 10,
     "metadata": {},
     "output_type": "execute_result"
    }
   ],
   "source": [
    "data"
   ],
   "metadata": {
    "collapsed": false,
    "ExecuteTime": {
     "end_time": "2023-12-23T20:34:19.828889016Z",
     "start_time": "2023-12-23T20:34:19.808607132Z"
    }
   },
   "id": "af46e463673551d9",
   "execution_count": 10
  },
  {
   "cell_type": "code",
   "outputs": [],
   "source": [],
   "metadata": {
    "collapsed": false
   },
   "id": "ceb511a1fedd1870"
  }
 ],
 "metadata": {
  "kernelspec": {
   "display_name": "Python 3",
   "language": "python",
   "name": "python3"
  },
  "language_info": {
   "codemirror_mode": {
    "name": "ipython",
    "version": 2
   },
   "file_extension": ".py",
   "mimetype": "text/x-python",
   "name": "python",
   "nbconvert_exporter": "python",
   "pygments_lexer": "ipython2",
   "version": "2.7.6"
  }
 },
 "nbformat": 4,
 "nbformat_minor": 5
}
